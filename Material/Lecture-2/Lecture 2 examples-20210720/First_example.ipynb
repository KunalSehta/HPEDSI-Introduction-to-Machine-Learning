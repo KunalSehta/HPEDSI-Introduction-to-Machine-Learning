{
 "cells": [
  {
   "cell_type": "code",
   "execution_count": null,
   "metadata": {},
   "outputs": [],
   "source": [
    "# We're going to start with a very simple example\n",
    "\n",
    "# NumPy for numerical computing\n",
    "import numpy as np \n",
    "\n",
    "# MatPlotLib for visualization\n",
    "%matplotlib notebook              \n",
    "import matplotlib.pyplot as plt \n",
    "\n",
    "\n",
    "# Now create a small data set \n",
    "# with only TWO features (each of the SIX data points has TWO coordinates)\n",
    "X = np.array([[1,1],\n",
    "              [1,2],\n",
    "              [2,2],\n",
    "              [6,8],\n",
    "              [8,8],\n",
    "              [9,11]\n",
    "             ])\n",
    "\n",
    "# Let's plot it to see what the data look like \n",
    "plt.figure()\n",
    "plt.scatter(X[:,0], X[:,1])\n",
    "plt.show()"
   ]
  },
  {
   "cell_type": "code",
   "execution_count": null,
   "metadata": {},
   "outputs": [],
   "source": [
    "# Assign labels to the data points (lower left get labeled with \"0\", top and right with \"1\")\n",
    "y = [0,0,0,1,1,1]\n",
    "\n",
    "# Let's plot to make sure \n",
    "plt.figure()\n",
    "color = [str(item/2.) for item in y]  # we will use a gray scale for the labels: dark gray for \"0\", light gray for \"1\" \n",
    "plt.scatter(X[:,0], X[:,1], c=color)\n",
    "plt.show()"
   ]
  },
  {
   "cell_type": "code",
   "execution_count": null,
   "metadata": {},
   "outputs": [],
   "source": [
    "# Now it's time to train the K Nearest Neighbors model\n",
    "\n",
    "print('Working on model fitting...')\n",
    "\n",
    "import sklearn  # Sci-Kit Learn for ML\n",
    "from sklearn.neighbors import KNeighborsClassifier   # we will use the kNN classifier\n",
    "\n",
    "neigh = KNeighborsClassifier(n_neighbors=3)  # only consider the THREE nearest neighbors\n",
    "neigh.fit(X,y)  #  this is all it takes!\n",
    "\n",
    "print('Done!')"
   ]
  },
  {
   "cell_type": "code",
   "execution_count": null,
   "metadata": {},
   "outputs": [],
   "source": [
    "# Time to make predictions and test performance\n",
    "\n",
    "# X_test = [1.5, 1.5]  # We're hoping this predicts a \"0\", since this is a \"lower left\" point.\n",
    "X_test = [8, 9]  # We're hoping this predicts a \"1\", since this is a \"top and to the right\" point.\n",
    "\n",
    "print('Input for testing is: ')\n",
    "print(X_test)\n",
    "\n",
    "predicted_y = neigh.predict([X_test])  \n",
    "\n",
    "print('Predicted label is: ')\n",
    "print(predicted_y)   #  done!"
   ]
  },
  {
   "cell_type": "code",
   "execution_count": null,
   "metadata": {},
   "outputs": [],
   "source": [
    "# Let's plot again, with the test point this time\n",
    "\n",
    "plt.figure()\n",
    "plt.scatter(X[:,0], X[:,1], c=color)                                    # the training points are marked with circles\n",
    "plt.scatter(X_test[0], X_test[1], c=str(predicted_y[0]/2.), marker='s') # the test point is marked with a square\n",
    "plt.show()"
   ]
  },
  {
   "cell_type": "code",
   "execution_count": null,
   "metadata": {},
   "outputs": [],
   "source": []
  }
 ],
 "metadata": {
  "kernelspec": {
   "display_name": "Python3.7",
   "language": "python",
   "name": "python3.7"
  },
  "language_info": {
   "codemirror_mode": {
    "name": "ipython",
    "version": 3
   },
   "file_extension": ".py",
   "mimetype": "text/x-python",
   "name": "python",
   "nbconvert_exporter": "python",
   "pygments_lexer": "ipython3",
   "version": "3.7.6"
  }
 },
 "nbformat": 4,
 "nbformat_minor": 2
}
